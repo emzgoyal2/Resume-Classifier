{
  "nbformat": 4,
  "nbformat_minor": 0,
  "metadata": {
    "colab": {
      "provenance": []
    },
    "kernelspec": {
      "name": "python3",
      "display_name": "Python 3"
    },
    "language_info": {
      "name": "python"
    }
  },
  "cells": [
    {
      "cell_type": "code",
      "source": [
        "# Importing the necessary libraries\n",
        "from PIL import Image\n",
        "import os\n",
        "import matplotlib.pyplot as plt\n",
        "import pandas as pd\n",
        "import numpy as np\n",
        "import tensorflow as tf\n",
        "from tensorflow.keras.utils import to_categorical\n",
        "from tensorflow.keras.preprocessing.image import ImageDataGenerator, img_to_array, load_img\n",
        "from fastai.vision.all import *\n",
        "from sklearn.model_selection import train_test_split  # Added import for train_test_split"
      ],
      "metadata": {
        "id": "sYZctMZphw6R"
      },
      "execution_count": 1,
      "outputs": []
    },
    {
      "cell_type": "code",
      "source": [
        "# Mounting my Google Drive\n",
        "from google.colab import drive\n",
        "drive.mount('/content/drive')\n",
        "\n",
        "image_folder_path = '/content/drive/MyDrive/Bureau/small'\n",
        "folders = os.listdir(image_folder_path)"
      ],
      "metadata": {
        "colab": {
          "base_uri": "https://localhost:8080/"
        },
        "id": "tcQHHeXwhxyZ",
        "outputId": "2fb7fd97-3433-4cfe-aba3-3a6b641374fc"
      },
      "execution_count": 2,
      "outputs": [
        {
          "output_type": "stream",
          "name": "stdout",
          "text": [
            "Mounted at /content/drive\n"
          ]
        }
      ]
    },
    {
      "cell_type": "code",
      "source": [
        "# Create separate DataFrames for training and testing\n",
        "train_df = pd.DataFrame(columns=['file_path', 'label'])\n",
        "test_df = pd.DataFrame(columns=['file_path', 'label'])\n",
        "\n",
        "for folder in folders:\n",
        "    folder_path = os.path.join(image_folder_path, folder)\n",
        "    files = os.listdir(folder_path)\n",
        "\n",
        "    # Split files into training and testing\n",
        "    train_files, test_files = train_test_split(files, test_size=0.1, random_state=42)\n",
        "\n",
        "    for file in train_files:\n",
        "        file_path = os.path.join(folder_path, file)\n",
        "        train_df = train_df.append({'file_path': file_path, 'label': folder}, ignore_index=True)\n",
        "\n",
        "    for file in test_files:\n",
        "        file_path = os.path.join(folder_path, file)\n",
        "        test_df = test_df.append({'file_path': file_path, 'label': folder}, ignore_index=True)"
      ],
      "metadata": {
        "colab": {
          "base_uri": "https://localhost:8080/"
        },
        "id": "XpBGjB1Sh32v",
        "outputId": "7bc0a9c4-cef8-4f47-d680-b620ac0fb9d3"
      },
      "execution_count": 3,
      "outputs": [
        {
          "output_type": "stream",
          "name": "stderr",
          "text": [
            "<ipython-input-3-7431106ae096>:14: FutureWarning: The frame.append method is deprecated and will be removed from pandas in a future version. Use pandas.concat instead.\n",
            "  train_df = train_df.append({'file_path': file_path, 'label': folder}, ignore_index=True)\n",
            "<ipython-input-3-7431106ae096>:14: FutureWarning: The frame.append method is deprecated and will be removed from pandas in a future version. Use pandas.concat instead.\n",
            "  train_df = train_df.append({'file_path': file_path, 'label': folder}, ignore_index=True)\n",
            "<ipython-input-3-7431106ae096>:14: FutureWarning: The frame.append method is deprecated and will be removed from pandas in a future version. Use pandas.concat instead.\n",
            "  train_df = train_df.append({'file_path': file_path, 'label': folder}, ignore_index=True)\n",
            "<ipython-input-3-7431106ae096>:14: FutureWarning: The frame.append method is deprecated and will be removed from pandas in a future version. Use pandas.concat instead.\n",
            "  train_df = train_df.append({'file_path': file_path, 'label': folder}, ignore_index=True)\n",
            "<ipython-input-3-7431106ae096>:14: FutureWarning: The frame.append method is deprecated and will be removed from pandas in a future version. Use pandas.concat instead.\n",
            "  train_df = train_df.append({'file_path': file_path, 'label': folder}, ignore_index=True)\n",
            "<ipython-input-3-7431106ae096>:14: FutureWarning: The frame.append method is deprecated and will be removed from pandas in a future version. Use pandas.concat instead.\n",
            "  train_df = train_df.append({'file_path': file_path, 'label': folder}, ignore_index=True)\n",
            "<ipython-input-3-7431106ae096>:14: FutureWarning: The frame.append method is deprecated and will be removed from pandas in a future version. Use pandas.concat instead.\n",
            "  train_df = train_df.append({'file_path': file_path, 'label': folder}, ignore_index=True)\n",
            "<ipython-input-3-7431106ae096>:14: FutureWarning: The frame.append method is deprecated and will be removed from pandas in a future version. Use pandas.concat instead.\n",
            "  train_df = train_df.append({'file_path': file_path, 'label': folder}, ignore_index=True)\n",
            "<ipython-input-3-7431106ae096>:14: FutureWarning: The frame.append method is deprecated and will be removed from pandas in a future version. Use pandas.concat instead.\n",
            "  train_df = train_df.append({'file_path': file_path, 'label': folder}, ignore_index=True)\n",
            "<ipython-input-3-7431106ae096>:14: FutureWarning: The frame.append method is deprecated and will be removed from pandas in a future version. Use pandas.concat instead.\n",
            "  train_df = train_df.append({'file_path': file_path, 'label': folder}, ignore_index=True)\n",
            "<ipython-input-3-7431106ae096>:14: FutureWarning: The frame.append method is deprecated and will be removed from pandas in a future version. Use pandas.concat instead.\n",
            "  train_df = train_df.append({'file_path': file_path, 'label': folder}, ignore_index=True)\n",
            "<ipython-input-3-7431106ae096>:14: FutureWarning: The frame.append method is deprecated and will be removed from pandas in a future version. Use pandas.concat instead.\n",
            "  train_df = train_df.append({'file_path': file_path, 'label': folder}, ignore_index=True)\n",
            "<ipython-input-3-7431106ae096>:14: FutureWarning: The frame.append method is deprecated and will be removed from pandas in a future version. Use pandas.concat instead.\n",
            "  train_df = train_df.append({'file_path': file_path, 'label': folder}, ignore_index=True)\n",
            "<ipython-input-3-7431106ae096>:14: FutureWarning: The frame.append method is deprecated and will be removed from pandas in a future version. Use pandas.concat instead.\n",
            "  train_df = train_df.append({'file_path': file_path, 'label': folder}, ignore_index=True)\n",
            "<ipython-input-3-7431106ae096>:14: FutureWarning: The frame.append method is deprecated and will be removed from pandas in a future version. Use pandas.concat instead.\n",
            "  train_df = train_df.append({'file_path': file_path, 'label': folder}, ignore_index=True)\n",
            "<ipython-input-3-7431106ae096>:14: FutureWarning: The frame.append method is deprecated and will be removed from pandas in a future version. Use pandas.concat instead.\n",
            "  train_df = train_df.append({'file_path': file_path, 'label': folder}, ignore_index=True)\n",
            "<ipython-input-3-7431106ae096>:14: FutureWarning: The frame.append method is deprecated and will be removed from pandas in a future version. Use pandas.concat instead.\n",
            "  train_df = train_df.append({'file_path': file_path, 'label': folder}, ignore_index=True)\n",
            "<ipython-input-3-7431106ae096>:14: FutureWarning: The frame.append method is deprecated and will be removed from pandas in a future version. Use pandas.concat instead.\n",
            "  train_df = train_df.append({'file_path': file_path, 'label': folder}, ignore_index=True)\n",
            "<ipython-input-3-7431106ae096>:14: FutureWarning: The frame.append method is deprecated and will be removed from pandas in a future version. Use pandas.concat instead.\n",
            "  train_df = train_df.append({'file_path': file_path, 'label': folder}, ignore_index=True)\n",
            "<ipython-input-3-7431106ae096>:14: FutureWarning: The frame.append method is deprecated and will be removed from pandas in a future version. Use pandas.concat instead.\n",
            "  train_df = train_df.append({'file_path': file_path, 'label': folder}, ignore_index=True)\n",
            "<ipython-input-3-7431106ae096>:14: FutureWarning: The frame.append method is deprecated and will be removed from pandas in a future version. Use pandas.concat instead.\n",
            "  train_df = train_df.append({'file_path': file_path, 'label': folder}, ignore_index=True)\n",
            "<ipython-input-3-7431106ae096>:14: FutureWarning: The frame.append method is deprecated and will be removed from pandas in a future version. Use pandas.concat instead.\n",
            "  train_df = train_df.append({'file_path': file_path, 'label': folder}, ignore_index=True)\n",
            "<ipython-input-3-7431106ae096>:14: FutureWarning: The frame.append method is deprecated and will be removed from pandas in a future version. Use pandas.concat instead.\n",
            "  train_df = train_df.append({'file_path': file_path, 'label': folder}, ignore_index=True)\n",
            "<ipython-input-3-7431106ae096>:14: FutureWarning: The frame.append method is deprecated and will be removed from pandas in a future version. Use pandas.concat instead.\n",
            "  train_df = train_df.append({'file_path': file_path, 'label': folder}, ignore_index=True)\n",
            "<ipython-input-3-7431106ae096>:14: FutureWarning: The frame.append method is deprecated and will be removed from pandas in a future version. Use pandas.concat instead.\n",
            "  train_df = train_df.append({'file_path': file_path, 'label': folder}, ignore_index=True)\n",
            "<ipython-input-3-7431106ae096>:14: FutureWarning: The frame.append method is deprecated and will be removed from pandas in a future version. Use pandas.concat instead.\n",
            "  train_df = train_df.append({'file_path': file_path, 'label': folder}, ignore_index=True)\n",
            "<ipython-input-3-7431106ae096>:14: FutureWarning: The frame.append method is deprecated and will be removed from pandas in a future version. Use pandas.concat instead.\n",
            "  train_df = train_df.append({'file_path': file_path, 'label': folder}, ignore_index=True)\n",
            "<ipython-input-3-7431106ae096>:14: FutureWarning: The frame.append method is deprecated and will be removed from pandas in a future version. Use pandas.concat instead.\n",
            "  train_df = train_df.append({'file_path': file_path, 'label': folder}, ignore_index=True)\n",
            "<ipython-input-3-7431106ae096>:14: FutureWarning: The frame.append method is deprecated and will be removed from pandas in a future version. Use pandas.concat instead.\n",
            "  train_df = train_df.append({'file_path': file_path, 'label': folder}, ignore_index=True)\n",
            "<ipython-input-3-7431106ae096>:14: FutureWarning: The frame.append method is deprecated and will be removed from pandas in a future version. Use pandas.concat instead.\n",
            "  train_df = train_df.append({'file_path': file_path, 'label': folder}, ignore_index=True)\n",
            "<ipython-input-3-7431106ae096>:14: FutureWarning: The frame.append method is deprecated and will be removed from pandas in a future version. Use pandas.concat instead.\n",
            "  train_df = train_df.append({'file_path': file_path, 'label': folder}, ignore_index=True)\n",
            "<ipython-input-3-7431106ae096>:14: FutureWarning: The frame.append method is deprecated and will be removed from pandas in a future version. Use pandas.concat instead.\n",
            "  train_df = train_df.append({'file_path': file_path, 'label': folder}, ignore_index=True)\n",
            "<ipython-input-3-7431106ae096>:14: FutureWarning: The frame.append method is deprecated and will be removed from pandas in a future version. Use pandas.concat instead.\n",
            "  train_df = train_df.append({'file_path': file_path, 'label': folder}, ignore_index=True)\n",
            "<ipython-input-3-7431106ae096>:14: FutureWarning: The frame.append method is deprecated and will be removed from pandas in a future version. Use pandas.concat instead.\n",
            "  train_df = train_df.append({'file_path': file_path, 'label': folder}, ignore_index=True)\n",
            "<ipython-input-3-7431106ae096>:14: FutureWarning: The frame.append method is deprecated and will be removed from pandas in a future version. Use pandas.concat instead.\n",
            "  train_df = train_df.append({'file_path': file_path, 'label': folder}, ignore_index=True)\n",
            "<ipython-input-3-7431106ae096>:14: FutureWarning: The frame.append method is deprecated and will be removed from pandas in a future version. Use pandas.concat instead.\n",
            "  train_df = train_df.append({'file_path': file_path, 'label': folder}, ignore_index=True)\n",
            "<ipython-input-3-7431106ae096>:14: FutureWarning: The frame.append method is deprecated and will be removed from pandas in a future version. Use pandas.concat instead.\n",
            "  train_df = train_df.append({'file_path': file_path, 'label': folder}, ignore_index=True)\n",
            "<ipython-input-3-7431106ae096>:14: FutureWarning: The frame.append method is deprecated and will be removed from pandas in a future version. Use pandas.concat instead.\n",
            "  train_df = train_df.append({'file_path': file_path, 'label': folder}, ignore_index=True)\n",
            "<ipython-input-3-7431106ae096>:14: FutureWarning: The frame.append method is deprecated and will be removed from pandas in a future version. Use pandas.concat instead.\n",
            "  train_df = train_df.append({'file_path': file_path, 'label': folder}, ignore_index=True)\n",
            "<ipython-input-3-7431106ae096>:14: FutureWarning: The frame.append method is deprecated and will be removed from pandas in a future version. Use pandas.concat instead.\n",
            "  train_df = train_df.append({'file_path': file_path, 'label': folder}, ignore_index=True)\n",
            "<ipython-input-3-7431106ae096>:14: FutureWarning: The frame.append method is deprecated and will be removed from pandas in a future version. Use pandas.concat instead.\n",
            "  train_df = train_df.append({'file_path': file_path, 'label': folder}, ignore_index=True)\n",
            "<ipython-input-3-7431106ae096>:14: FutureWarning: The frame.append method is deprecated and will be removed from pandas in a future version. Use pandas.concat instead.\n",
            "  train_df = train_df.append({'file_path': file_path, 'label': folder}, ignore_index=True)\n",
            "<ipython-input-3-7431106ae096>:14: FutureWarning: The frame.append method is deprecated and will be removed from pandas in a future version. Use pandas.concat instead.\n",
            "  train_df = train_df.append({'file_path': file_path, 'label': folder}, ignore_index=True)\n",
            "<ipython-input-3-7431106ae096>:14: FutureWarning: The frame.append method is deprecated and will be removed from pandas in a future version. Use pandas.concat instead.\n",
            "  train_df = train_df.append({'file_path': file_path, 'label': folder}, ignore_index=True)\n",
            "<ipython-input-3-7431106ae096>:14: FutureWarning: The frame.append method is deprecated and will be removed from pandas in a future version. Use pandas.concat instead.\n",
            "  train_df = train_df.append({'file_path': file_path, 'label': folder}, ignore_index=True)\n",
            "<ipython-input-3-7431106ae096>:14: FutureWarning: The frame.append method is deprecated and will be removed from pandas in a future version. Use pandas.concat instead.\n",
            "  train_df = train_df.append({'file_path': file_path, 'label': folder}, ignore_index=True)\n",
            "<ipython-input-3-7431106ae096>:14: FutureWarning: The frame.append method is deprecated and will be removed from pandas in a future version. Use pandas.concat instead.\n",
            "  train_df = train_df.append({'file_path': file_path, 'label': folder}, ignore_index=True)\n",
            "<ipython-input-3-7431106ae096>:14: FutureWarning: The frame.append method is deprecated and will be removed from pandas in a future version. Use pandas.concat instead.\n",
            "  train_df = train_df.append({'file_path': file_path, 'label': folder}, ignore_index=True)\n",
            "<ipython-input-3-7431106ae096>:14: FutureWarning: The frame.append method is deprecated and will be removed from pandas in a future version. Use pandas.concat instead.\n",
            "  train_df = train_df.append({'file_path': file_path, 'label': folder}, ignore_index=True)\n",
            "<ipython-input-3-7431106ae096>:18: FutureWarning: The frame.append method is deprecated and will be removed from pandas in a future version. Use pandas.concat instead.\n",
            "  test_df = test_df.append({'file_path': file_path, 'label': folder}, ignore_index=True)\n",
            "<ipython-input-3-7431106ae096>:18: FutureWarning: The frame.append method is deprecated and will be removed from pandas in a future version. Use pandas.concat instead.\n",
            "  test_df = test_df.append({'file_path': file_path, 'label': folder}, ignore_index=True)\n",
            "<ipython-input-3-7431106ae096>:18: FutureWarning: The frame.append method is deprecated and will be removed from pandas in a future version. Use pandas.concat instead.\n",
            "  test_df = test_df.append({'file_path': file_path, 'label': folder}, ignore_index=True)\n",
            "<ipython-input-3-7431106ae096>:18: FutureWarning: The frame.append method is deprecated and will be removed from pandas in a future version. Use pandas.concat instead.\n",
            "  test_df = test_df.append({'file_path': file_path, 'label': folder}, ignore_index=True)\n",
            "<ipython-input-3-7431106ae096>:18: FutureWarning: The frame.append method is deprecated and will be removed from pandas in a future version. Use pandas.concat instead.\n",
            "  test_df = test_df.append({'file_path': file_path, 'label': folder}, ignore_index=True)\n",
            "<ipython-input-3-7431106ae096>:18: FutureWarning: The frame.append method is deprecated and will be removed from pandas in a future version. Use pandas.concat instead.\n",
            "  test_df = test_df.append({'file_path': file_path, 'label': folder}, ignore_index=True)\n",
            "<ipython-input-3-7431106ae096>:14: FutureWarning: The frame.append method is deprecated and will be removed from pandas in a future version. Use pandas.concat instead.\n",
            "  train_df = train_df.append({'file_path': file_path, 'label': folder}, ignore_index=True)\n",
            "<ipython-input-3-7431106ae096>:14: FutureWarning: The frame.append method is deprecated and will be removed from pandas in a future version. Use pandas.concat instead.\n",
            "  train_df = train_df.append({'file_path': file_path, 'label': folder}, ignore_index=True)\n",
            "<ipython-input-3-7431106ae096>:14: FutureWarning: The frame.append method is deprecated and will be removed from pandas in a future version. Use pandas.concat instead.\n",
            "  train_df = train_df.append({'file_path': file_path, 'label': folder}, ignore_index=True)\n",
            "<ipython-input-3-7431106ae096>:14: FutureWarning: The frame.append method is deprecated and will be removed from pandas in a future version. Use pandas.concat instead.\n",
            "  train_df = train_df.append({'file_path': file_path, 'label': folder}, ignore_index=True)\n",
            "<ipython-input-3-7431106ae096>:14: FutureWarning: The frame.append method is deprecated and will be removed from pandas in a future version. Use pandas.concat instead.\n",
            "  train_df = train_df.append({'file_path': file_path, 'label': folder}, ignore_index=True)\n",
            "<ipython-input-3-7431106ae096>:14: FutureWarning: The frame.append method is deprecated and will be removed from pandas in a future version. Use pandas.concat instead.\n",
            "  train_df = train_df.append({'file_path': file_path, 'label': folder}, ignore_index=True)\n",
            "<ipython-input-3-7431106ae096>:14: FutureWarning: The frame.append method is deprecated and will be removed from pandas in a future version. Use pandas.concat instead.\n",
            "  train_df = train_df.append({'file_path': file_path, 'label': folder}, ignore_index=True)\n",
            "<ipython-input-3-7431106ae096>:14: FutureWarning: The frame.append method is deprecated and will be removed from pandas in a future version. Use pandas.concat instead.\n",
            "  train_df = train_df.append({'file_path': file_path, 'label': folder}, ignore_index=True)\n",
            "<ipython-input-3-7431106ae096>:14: FutureWarning: The frame.append method is deprecated and will be removed from pandas in a future version. Use pandas.concat instead.\n",
            "  train_df = train_df.append({'file_path': file_path, 'label': folder}, ignore_index=True)\n",
            "<ipython-input-3-7431106ae096>:14: FutureWarning: The frame.append method is deprecated and will be removed from pandas in a future version. Use pandas.concat instead.\n",
            "  train_df = train_df.append({'file_path': file_path, 'label': folder}, ignore_index=True)\n",
            "<ipython-input-3-7431106ae096>:14: FutureWarning: The frame.append method is deprecated and will be removed from pandas in a future version. Use pandas.concat instead.\n",
            "  train_df = train_df.append({'file_path': file_path, 'label': folder}, ignore_index=True)\n",
            "<ipython-input-3-7431106ae096>:14: FutureWarning: The frame.append method is deprecated and will be removed from pandas in a future version. Use pandas.concat instead.\n",
            "  train_df = train_df.append({'file_path': file_path, 'label': folder}, ignore_index=True)\n",
            "<ipython-input-3-7431106ae096>:14: FutureWarning: The frame.append method is deprecated and will be removed from pandas in a future version. Use pandas.concat instead.\n",
            "  train_df = train_df.append({'file_path': file_path, 'label': folder}, ignore_index=True)\n",
            "<ipython-input-3-7431106ae096>:14: FutureWarning: The frame.append method is deprecated and will be removed from pandas in a future version. Use pandas.concat instead.\n",
            "  train_df = train_df.append({'file_path': file_path, 'label': folder}, ignore_index=True)\n",
            "<ipython-input-3-7431106ae096>:14: FutureWarning: The frame.append method is deprecated and will be removed from pandas in a future version. Use pandas.concat instead.\n",
            "  train_df = train_df.append({'file_path': file_path, 'label': folder}, ignore_index=True)\n",
            "<ipython-input-3-7431106ae096>:14: FutureWarning: The frame.append method is deprecated and will be removed from pandas in a future version. Use pandas.concat instead.\n",
            "  train_df = train_df.append({'file_path': file_path, 'label': folder}, ignore_index=True)\n",
            "<ipython-input-3-7431106ae096>:14: FutureWarning: The frame.append method is deprecated and will be removed from pandas in a future version. Use pandas.concat instead.\n",
            "  train_df = train_df.append({'file_path': file_path, 'label': folder}, ignore_index=True)\n",
            "<ipython-input-3-7431106ae096>:14: FutureWarning: The frame.append method is deprecated and will be removed from pandas in a future version. Use pandas.concat instead.\n",
            "  train_df = train_df.append({'file_path': file_path, 'label': folder}, ignore_index=True)\n",
            "<ipython-input-3-7431106ae096>:14: FutureWarning: The frame.append method is deprecated and will be removed from pandas in a future version. Use pandas.concat instead.\n",
            "  train_df = train_df.append({'file_path': file_path, 'label': folder}, ignore_index=True)\n",
            "<ipython-input-3-7431106ae096>:14: FutureWarning: The frame.append method is deprecated and will be removed from pandas in a future version. Use pandas.concat instead.\n",
            "  train_df = train_df.append({'file_path': file_path, 'label': folder}, ignore_index=True)\n",
            "<ipython-input-3-7431106ae096>:14: FutureWarning: The frame.append method is deprecated and will be removed from pandas in a future version. Use pandas.concat instead.\n",
            "  train_df = train_df.append({'file_path': file_path, 'label': folder}, ignore_index=True)\n",
            "<ipython-input-3-7431106ae096>:14: FutureWarning: The frame.append method is deprecated and will be removed from pandas in a future version. Use pandas.concat instead.\n",
            "  train_df = train_df.append({'file_path': file_path, 'label': folder}, ignore_index=True)\n",
            "<ipython-input-3-7431106ae096>:14: FutureWarning: The frame.append method is deprecated and will be removed from pandas in a future version. Use pandas.concat instead.\n",
            "  train_df = train_df.append({'file_path': file_path, 'label': folder}, ignore_index=True)\n",
            "<ipython-input-3-7431106ae096>:14: FutureWarning: The frame.append method is deprecated and will be removed from pandas in a future version. Use pandas.concat instead.\n",
            "  train_df = train_df.append({'file_path': file_path, 'label': folder}, ignore_index=True)\n",
            "<ipython-input-3-7431106ae096>:14: FutureWarning: The frame.append method is deprecated and will be removed from pandas in a future version. Use pandas.concat instead.\n",
            "  train_df = train_df.append({'file_path': file_path, 'label': folder}, ignore_index=True)\n",
            "<ipython-input-3-7431106ae096>:14: FutureWarning: The frame.append method is deprecated and will be removed from pandas in a future version. Use pandas.concat instead.\n",
            "  train_df = train_df.append({'file_path': file_path, 'label': folder}, ignore_index=True)\n",
            "<ipython-input-3-7431106ae096>:14: FutureWarning: The frame.append method is deprecated and will be removed from pandas in a future version. Use pandas.concat instead.\n",
            "  train_df = train_df.append({'file_path': file_path, 'label': folder}, ignore_index=True)\n",
            "<ipython-input-3-7431106ae096>:14: FutureWarning: The frame.append method is deprecated and will be removed from pandas in a future version. Use pandas.concat instead.\n",
            "  train_df = train_df.append({'file_path': file_path, 'label': folder}, ignore_index=True)\n",
            "<ipython-input-3-7431106ae096>:14: FutureWarning: The frame.append method is deprecated and will be removed from pandas in a future version. Use pandas.concat instead.\n",
            "  train_df = train_df.append({'file_path': file_path, 'label': folder}, ignore_index=True)\n",
            "<ipython-input-3-7431106ae096>:14: FutureWarning: The frame.append method is deprecated and will be removed from pandas in a future version. Use pandas.concat instead.\n",
            "  train_df = train_df.append({'file_path': file_path, 'label': folder}, ignore_index=True)\n",
            "<ipython-input-3-7431106ae096>:14: FutureWarning: The frame.append method is deprecated and will be removed from pandas in a future version. Use pandas.concat instead.\n",
            "  train_df = train_df.append({'file_path': file_path, 'label': folder}, ignore_index=True)\n",
            "<ipython-input-3-7431106ae096>:14: FutureWarning: The frame.append method is deprecated and will be removed from pandas in a future version. Use pandas.concat instead.\n",
            "  train_df = train_df.append({'file_path': file_path, 'label': folder}, ignore_index=True)\n",
            "<ipython-input-3-7431106ae096>:14: FutureWarning: The frame.append method is deprecated and will be removed from pandas in a future version. Use pandas.concat instead.\n",
            "  train_df = train_df.append({'file_path': file_path, 'label': folder}, ignore_index=True)\n",
            "<ipython-input-3-7431106ae096>:14: FutureWarning: The frame.append method is deprecated and will be removed from pandas in a future version. Use pandas.concat instead.\n",
            "  train_df = train_df.append({'file_path': file_path, 'label': folder}, ignore_index=True)\n",
            "<ipython-input-3-7431106ae096>:14: FutureWarning: The frame.append method is deprecated and will be removed from pandas in a future version. Use pandas.concat instead.\n",
            "  train_df = train_df.append({'file_path': file_path, 'label': folder}, ignore_index=True)\n",
            "<ipython-input-3-7431106ae096>:14: FutureWarning: The frame.append method is deprecated and will be removed from pandas in a future version. Use pandas.concat instead.\n",
            "  train_df = train_df.append({'file_path': file_path, 'label': folder}, ignore_index=True)\n",
            "<ipython-input-3-7431106ae096>:14: FutureWarning: The frame.append method is deprecated and will be removed from pandas in a future version. Use pandas.concat instead.\n",
            "  train_df = train_df.append({'file_path': file_path, 'label': folder}, ignore_index=True)\n",
            "<ipython-input-3-7431106ae096>:14: FutureWarning: The frame.append method is deprecated and will be removed from pandas in a future version. Use pandas.concat instead.\n",
            "  train_df = train_df.append({'file_path': file_path, 'label': folder}, ignore_index=True)\n",
            "<ipython-input-3-7431106ae096>:14: FutureWarning: The frame.append method is deprecated and will be removed from pandas in a future version. Use pandas.concat instead.\n",
            "  train_df = train_df.append({'file_path': file_path, 'label': folder}, ignore_index=True)\n",
            "<ipython-input-3-7431106ae096>:14: FutureWarning: The frame.append method is deprecated and will be removed from pandas in a future version. Use pandas.concat instead.\n",
            "  train_df = train_df.append({'file_path': file_path, 'label': folder}, ignore_index=True)\n",
            "<ipython-input-3-7431106ae096>:14: FutureWarning: The frame.append method is deprecated and will be removed from pandas in a future version. Use pandas.concat instead.\n",
            "  train_df = train_df.append({'file_path': file_path, 'label': folder}, ignore_index=True)\n",
            "<ipython-input-3-7431106ae096>:14: FutureWarning: The frame.append method is deprecated and will be removed from pandas in a future version. Use pandas.concat instead.\n",
            "  train_df = train_df.append({'file_path': file_path, 'label': folder}, ignore_index=True)\n",
            "<ipython-input-3-7431106ae096>:14: FutureWarning: The frame.append method is deprecated and will be removed from pandas in a future version. Use pandas.concat instead.\n",
            "  train_df = train_df.append({'file_path': file_path, 'label': folder}, ignore_index=True)\n",
            "<ipython-input-3-7431106ae096>:14: FutureWarning: The frame.append method is deprecated and will be removed from pandas in a future version. Use pandas.concat instead.\n",
            "  train_df = train_df.append({'file_path': file_path, 'label': folder}, ignore_index=True)\n",
            "<ipython-input-3-7431106ae096>:14: FutureWarning: The frame.append method is deprecated and will be removed from pandas in a future version. Use pandas.concat instead.\n",
            "  train_df = train_df.append({'file_path': file_path, 'label': folder}, ignore_index=True)\n",
            "<ipython-input-3-7431106ae096>:14: FutureWarning: The frame.append method is deprecated and will be removed from pandas in a future version. Use pandas.concat instead.\n",
            "  train_df = train_df.append({'file_path': file_path, 'label': folder}, ignore_index=True)\n",
            "<ipython-input-3-7431106ae096>:14: FutureWarning: The frame.append method is deprecated and will be removed from pandas in a future version. Use pandas.concat instead.\n",
            "  train_df = train_df.append({'file_path': file_path, 'label': folder}, ignore_index=True)\n",
            "<ipython-input-3-7431106ae096>:14: FutureWarning: The frame.append method is deprecated and will be removed from pandas in a future version. Use pandas.concat instead.\n",
            "  train_df = train_df.append({'file_path': file_path, 'label': folder}, ignore_index=True)\n",
            "<ipython-input-3-7431106ae096>:14: FutureWarning: The frame.append method is deprecated and will be removed from pandas in a future version. Use pandas.concat instead.\n",
            "  train_df = train_df.append({'file_path': file_path, 'label': folder}, ignore_index=True)\n",
            "<ipython-input-3-7431106ae096>:18: FutureWarning: The frame.append method is deprecated and will be removed from pandas in a future version. Use pandas.concat instead.\n",
            "  test_df = test_df.append({'file_path': file_path, 'label': folder}, ignore_index=True)\n",
            "<ipython-input-3-7431106ae096>:18: FutureWarning: The frame.append method is deprecated and will be removed from pandas in a future version. Use pandas.concat instead.\n",
            "  test_df = test_df.append({'file_path': file_path, 'label': folder}, ignore_index=True)\n",
            "<ipython-input-3-7431106ae096>:18: FutureWarning: The frame.append method is deprecated and will be removed from pandas in a future version. Use pandas.concat instead.\n",
            "  test_df = test_df.append({'file_path': file_path, 'label': folder}, ignore_index=True)\n",
            "<ipython-input-3-7431106ae096>:18: FutureWarning: The frame.append method is deprecated and will be removed from pandas in a future version. Use pandas.concat instead.\n",
            "  test_df = test_df.append({'file_path': file_path, 'label': folder}, ignore_index=True)\n",
            "<ipython-input-3-7431106ae096>:18: FutureWarning: The frame.append method is deprecated and will be removed from pandas in a future version. Use pandas.concat instead.\n",
            "  test_df = test_df.append({'file_path': file_path, 'label': folder}, ignore_index=True)\n",
            "<ipython-input-3-7431106ae096>:18: FutureWarning: The frame.append method is deprecated and will be removed from pandas in a future version. Use pandas.concat instead.\n",
            "  test_df = test_df.append({'file_path': file_path, 'label': folder}, ignore_index=True)\n",
            "<ipython-input-3-7431106ae096>:14: FutureWarning: The frame.append method is deprecated and will be removed from pandas in a future version. Use pandas.concat instead.\n",
            "  train_df = train_df.append({'file_path': file_path, 'label': folder}, ignore_index=True)\n",
            "<ipython-input-3-7431106ae096>:14: FutureWarning: The frame.append method is deprecated and will be removed from pandas in a future version. Use pandas.concat instead.\n",
            "  train_df = train_df.append({'file_path': file_path, 'label': folder}, ignore_index=True)\n",
            "<ipython-input-3-7431106ae096>:14: FutureWarning: The frame.append method is deprecated and will be removed from pandas in a future version. Use pandas.concat instead.\n",
            "  train_df = train_df.append({'file_path': file_path, 'label': folder}, ignore_index=True)\n",
            "<ipython-input-3-7431106ae096>:14: FutureWarning: The frame.append method is deprecated and will be removed from pandas in a future version. Use pandas.concat instead.\n",
            "  train_df = train_df.append({'file_path': file_path, 'label': folder}, ignore_index=True)\n",
            "<ipython-input-3-7431106ae096>:14: FutureWarning: The frame.append method is deprecated and will be removed from pandas in a future version. Use pandas.concat instead.\n",
            "  train_df = train_df.append({'file_path': file_path, 'label': folder}, ignore_index=True)\n",
            "<ipython-input-3-7431106ae096>:14: FutureWarning: The frame.append method is deprecated and will be removed from pandas in a future version. Use pandas.concat instead.\n",
            "  train_df = train_df.append({'file_path': file_path, 'label': folder}, ignore_index=True)\n",
            "<ipython-input-3-7431106ae096>:14: FutureWarning: The frame.append method is deprecated and will be removed from pandas in a future version. Use pandas.concat instead.\n",
            "  train_df = train_df.append({'file_path': file_path, 'label': folder}, ignore_index=True)\n",
            "<ipython-input-3-7431106ae096>:14: FutureWarning: The frame.append method is deprecated and will be removed from pandas in a future version. Use pandas.concat instead.\n",
            "  train_df = train_df.append({'file_path': file_path, 'label': folder}, ignore_index=True)\n",
            "<ipython-input-3-7431106ae096>:14: FutureWarning: The frame.append method is deprecated and will be removed from pandas in a future version. Use pandas.concat instead.\n",
            "  train_df = train_df.append({'file_path': file_path, 'label': folder}, ignore_index=True)\n",
            "<ipython-input-3-7431106ae096>:14: FutureWarning: The frame.append method is deprecated and will be removed from pandas in a future version. Use pandas.concat instead.\n",
            "  train_df = train_df.append({'file_path': file_path, 'label': folder}, ignore_index=True)\n",
            "<ipython-input-3-7431106ae096>:14: FutureWarning: The frame.append method is deprecated and will be removed from pandas in a future version. Use pandas.concat instead.\n",
            "  train_df = train_df.append({'file_path': file_path, 'label': folder}, ignore_index=True)\n",
            "<ipython-input-3-7431106ae096>:14: FutureWarning: The frame.append method is deprecated and will be removed from pandas in a future version. Use pandas.concat instead.\n",
            "  train_df = train_df.append({'file_path': file_path, 'label': folder}, ignore_index=True)\n",
            "<ipython-input-3-7431106ae096>:14: FutureWarning: The frame.append method is deprecated and will be removed from pandas in a future version. Use pandas.concat instead.\n",
            "  train_df = train_df.append({'file_path': file_path, 'label': folder}, ignore_index=True)\n",
            "<ipython-input-3-7431106ae096>:14: FutureWarning: The frame.append method is deprecated and will be removed from pandas in a future version. Use pandas.concat instead.\n",
            "  train_df = train_df.append({'file_path': file_path, 'label': folder}, ignore_index=True)\n",
            "<ipython-input-3-7431106ae096>:14: FutureWarning: The frame.append method is deprecated and will be removed from pandas in a future version. Use pandas.concat instead.\n",
            "  train_df = train_df.append({'file_path': file_path, 'label': folder}, ignore_index=True)\n",
            "<ipython-input-3-7431106ae096>:14: FutureWarning: The frame.append method is deprecated and will be removed from pandas in a future version. Use pandas.concat instead.\n",
            "  train_df = train_df.append({'file_path': file_path, 'label': folder}, ignore_index=True)\n",
            "<ipython-input-3-7431106ae096>:14: FutureWarning: The frame.append method is deprecated and will be removed from pandas in a future version. Use pandas.concat instead.\n",
            "  train_df = train_df.append({'file_path': file_path, 'label': folder}, ignore_index=True)\n",
            "<ipython-input-3-7431106ae096>:14: FutureWarning: The frame.append method is deprecated and will be removed from pandas in a future version. Use pandas.concat instead.\n",
            "  train_df = train_df.append({'file_path': file_path, 'label': folder}, ignore_index=True)\n",
            "<ipython-input-3-7431106ae096>:14: FutureWarning: The frame.append method is deprecated and will be removed from pandas in a future version. Use pandas.concat instead.\n",
            "  train_df = train_df.append({'file_path': file_path, 'label': folder}, ignore_index=True)\n",
            "<ipython-input-3-7431106ae096>:14: FutureWarning: The frame.append method is deprecated and will be removed from pandas in a future version. Use pandas.concat instead.\n",
            "  train_df = train_df.append({'file_path': file_path, 'label': folder}, ignore_index=True)\n",
            "<ipython-input-3-7431106ae096>:14: FutureWarning: The frame.append method is deprecated and will be removed from pandas in a future version. Use pandas.concat instead.\n",
            "  train_df = train_df.append({'file_path': file_path, 'label': folder}, ignore_index=True)\n",
            "<ipython-input-3-7431106ae096>:14: FutureWarning: The frame.append method is deprecated and will be removed from pandas in a future version. Use pandas.concat instead.\n",
            "  train_df = train_df.append({'file_path': file_path, 'label': folder}, ignore_index=True)\n",
            "<ipython-input-3-7431106ae096>:14: FutureWarning: The frame.append method is deprecated and will be removed from pandas in a future version. Use pandas.concat instead.\n",
            "  train_df = train_df.append({'file_path': file_path, 'label': folder}, ignore_index=True)\n",
            "<ipython-input-3-7431106ae096>:14: FutureWarning: The frame.append method is deprecated and will be removed from pandas in a future version. Use pandas.concat instead.\n",
            "  train_df = train_df.append({'file_path': file_path, 'label': folder}, ignore_index=True)\n",
            "<ipython-input-3-7431106ae096>:14: FutureWarning: The frame.append method is deprecated and will be removed from pandas in a future version. Use pandas.concat instead.\n",
            "  train_df = train_df.append({'file_path': file_path, 'label': folder}, ignore_index=True)\n",
            "<ipython-input-3-7431106ae096>:14: FutureWarning: The frame.append method is deprecated and will be removed from pandas in a future version. Use pandas.concat instead.\n",
            "  train_df = train_df.append({'file_path': file_path, 'label': folder}, ignore_index=True)\n",
            "<ipython-input-3-7431106ae096>:14: FutureWarning: The frame.append method is deprecated and will be removed from pandas in a future version. Use pandas.concat instead.\n",
            "  train_df = train_df.append({'file_path': file_path, 'label': folder}, ignore_index=True)\n",
            "<ipython-input-3-7431106ae096>:14: FutureWarning: The frame.append method is deprecated and will be removed from pandas in a future version. Use pandas.concat instead.\n",
            "  train_df = train_df.append({'file_path': file_path, 'label': folder}, ignore_index=True)\n",
            "<ipython-input-3-7431106ae096>:14: FutureWarning: The frame.append method is deprecated and will be removed from pandas in a future version. Use pandas.concat instead.\n",
            "  train_df = train_df.append({'file_path': file_path, 'label': folder}, ignore_index=True)\n",
            "<ipython-input-3-7431106ae096>:14: FutureWarning: The frame.append method is deprecated and will be removed from pandas in a future version. Use pandas.concat instead.\n",
            "  train_df = train_df.append({'file_path': file_path, 'label': folder}, ignore_index=True)\n",
            "<ipython-input-3-7431106ae096>:14: FutureWarning: The frame.append method is deprecated and will be removed from pandas in a future version. Use pandas.concat instead.\n",
            "  train_df = train_df.append({'file_path': file_path, 'label': folder}, ignore_index=True)\n",
            "<ipython-input-3-7431106ae096>:14: FutureWarning: The frame.append method is deprecated and will be removed from pandas in a future version. Use pandas.concat instead.\n",
            "  train_df = train_df.append({'file_path': file_path, 'label': folder}, ignore_index=True)\n",
            "<ipython-input-3-7431106ae096>:14: FutureWarning: The frame.append method is deprecated and will be removed from pandas in a future version. Use pandas.concat instead.\n",
            "  train_df = train_df.append({'file_path': file_path, 'label': folder}, ignore_index=True)\n",
            "<ipython-input-3-7431106ae096>:14: FutureWarning: The frame.append method is deprecated and will be removed from pandas in a future version. Use pandas.concat instead.\n",
            "  train_df = train_df.append({'file_path': file_path, 'label': folder}, ignore_index=True)\n",
            "<ipython-input-3-7431106ae096>:14: FutureWarning: The frame.append method is deprecated and will be removed from pandas in a future version. Use pandas.concat instead.\n",
            "  train_df = train_df.append({'file_path': file_path, 'label': folder}, ignore_index=True)\n",
            "<ipython-input-3-7431106ae096>:14: FutureWarning: The frame.append method is deprecated and will be removed from pandas in a future version. Use pandas.concat instead.\n",
            "  train_df = train_df.append({'file_path': file_path, 'label': folder}, ignore_index=True)\n",
            "<ipython-input-3-7431106ae096>:14: FutureWarning: The frame.append method is deprecated and will be removed from pandas in a future version. Use pandas.concat instead.\n",
            "  train_df = train_df.append({'file_path': file_path, 'label': folder}, ignore_index=True)\n",
            "<ipython-input-3-7431106ae096>:14: FutureWarning: The frame.append method is deprecated and will be removed from pandas in a future version. Use pandas.concat instead.\n",
            "  train_df = train_df.append({'file_path': file_path, 'label': folder}, ignore_index=True)\n",
            "<ipython-input-3-7431106ae096>:14: FutureWarning: The frame.append method is deprecated and will be removed from pandas in a future version. Use pandas.concat instead.\n",
            "  train_df = train_df.append({'file_path': file_path, 'label': folder}, ignore_index=True)\n",
            "<ipython-input-3-7431106ae096>:14: FutureWarning: The frame.append method is deprecated and will be removed from pandas in a future version. Use pandas.concat instead.\n",
            "  train_df = train_df.append({'file_path': file_path, 'label': folder}, ignore_index=True)\n",
            "<ipython-input-3-7431106ae096>:14: FutureWarning: The frame.append method is deprecated and will be removed from pandas in a future version. Use pandas.concat instead.\n",
            "  train_df = train_df.append({'file_path': file_path, 'label': folder}, ignore_index=True)\n",
            "<ipython-input-3-7431106ae096>:14: FutureWarning: The frame.append method is deprecated and will be removed from pandas in a future version. Use pandas.concat instead.\n",
            "  train_df = train_df.append({'file_path': file_path, 'label': folder}, ignore_index=True)\n",
            "<ipython-input-3-7431106ae096>:14: FutureWarning: The frame.append method is deprecated and will be removed from pandas in a future version. Use pandas.concat instead.\n",
            "  train_df = train_df.append({'file_path': file_path, 'label': folder}, ignore_index=True)\n",
            "<ipython-input-3-7431106ae096>:14: FutureWarning: The frame.append method is deprecated and will be removed from pandas in a future version. Use pandas.concat instead.\n",
            "  train_df = train_df.append({'file_path': file_path, 'label': folder}, ignore_index=True)\n",
            "<ipython-input-3-7431106ae096>:14: FutureWarning: The frame.append method is deprecated and will be removed from pandas in a future version. Use pandas.concat instead.\n",
            "  train_df = train_df.append({'file_path': file_path, 'label': folder}, ignore_index=True)\n",
            "<ipython-input-3-7431106ae096>:14: FutureWarning: The frame.append method is deprecated and will be removed from pandas in a future version. Use pandas.concat instead.\n",
            "  train_df = train_df.append({'file_path': file_path, 'label': folder}, ignore_index=True)\n",
            "<ipython-input-3-7431106ae096>:14: FutureWarning: The frame.append method is deprecated and will be removed from pandas in a future version. Use pandas.concat instead.\n",
            "  train_df = train_df.append({'file_path': file_path, 'label': folder}, ignore_index=True)\n",
            "<ipython-input-3-7431106ae096>:14: FutureWarning: The frame.append method is deprecated and will be removed from pandas in a future version. Use pandas.concat instead.\n",
            "  train_df = train_df.append({'file_path': file_path, 'label': folder}, ignore_index=True)\n",
            "<ipython-input-3-7431106ae096>:14: FutureWarning: The frame.append method is deprecated and will be removed from pandas in a future version. Use pandas.concat instead.\n",
            "  train_df = train_df.append({'file_path': file_path, 'label': folder}, ignore_index=True)\n",
            "<ipython-input-3-7431106ae096>:18: FutureWarning: The frame.append method is deprecated and will be removed from pandas in a future version. Use pandas.concat instead.\n",
            "  test_df = test_df.append({'file_path': file_path, 'label': folder}, ignore_index=True)\n",
            "<ipython-input-3-7431106ae096>:18: FutureWarning: The frame.append method is deprecated and will be removed from pandas in a future version. Use pandas.concat instead.\n",
            "  test_df = test_df.append({'file_path': file_path, 'label': folder}, ignore_index=True)\n",
            "<ipython-input-3-7431106ae096>:18: FutureWarning: The frame.append method is deprecated and will be removed from pandas in a future version. Use pandas.concat instead.\n",
            "  test_df = test_df.append({'file_path': file_path, 'label': folder}, ignore_index=True)\n",
            "<ipython-input-3-7431106ae096>:18: FutureWarning: The frame.append method is deprecated and will be removed from pandas in a future version. Use pandas.concat instead.\n",
            "  test_df = test_df.append({'file_path': file_path, 'label': folder}, ignore_index=True)\n",
            "<ipython-input-3-7431106ae096>:18: FutureWarning: The frame.append method is deprecated and will be removed from pandas in a future version. Use pandas.concat instead.\n",
            "  test_df = test_df.append({'file_path': file_path, 'label': folder}, ignore_index=True)\n",
            "<ipython-input-3-7431106ae096>:18: FutureWarning: The frame.append method is deprecated and will be removed from pandas in a future version. Use pandas.concat instead.\n",
            "  test_df = test_df.append({'file_path': file_path, 'label': folder}, ignore_index=True)\n"
          ]
        }
      ]
    },
    {
      "cell_type": "code",
      "source": [
        "# Data Augmentation and Preprocessing\n",
        "target_size = (128, 128)\n",
        "data_augmentation = ImageDataGenerator(\n",
        "    rotation_range=10,\n",
        "    width_shift_range=0.1,\n",
        "    height_shift_range=0.1,\n",
        "    shear_range=0.1,\n",
        "    zoom_range=0.1,\n",
        "    horizontal_flip=True,\n",
        "    fill_mode='nearest'\n",
        ")"
      ],
      "metadata": {
        "id": "p8AoNSnmQsAr"
      },
      "execution_count": 4,
      "outputs": []
    },
    {
      "cell_type": "code",
      "source": [
        "# Processed images for training\n",
        "processed_images = []\n",
        "labels = []\n",
        "\n",
        "for _, row in train_df.iterrows():\n",
        "    file_path = row['file_path']\n",
        "\n",
        "    img = load_img(file_path, target_size=target_size)\n",
        "    img_array = img_to_array(img)\n",
        "    img_array = img_array.reshape((1,) + img_array.shape)\n",
        "\n",
        "    img_array /= 255.0\n",
        "\n",
        "    for _ in range(5):\n",
        "        augmented_img = next(data_augmentation.flow(img_array))[0]\n",
        "        processed_images.append(augmented_img)\n",
        "        labels.append(row['label'])"
      ],
      "metadata": {
        "id": "j9uR23UBQwVo"
      },
      "execution_count": 5,
      "outputs": []
    },
    {
      "cell_type": "code",
      "source": [
        "# Processed images for testing\n",
        "test_images = []\n",
        "test_labels = []\n",
        "\n",
        "for _, row in test_df.iterrows():\n",
        "    file_path = row['file_path']\n",
        "\n",
        "    img = load_img(file_path, target_size=target_size)\n",
        "    img_array = img_to_array(img)\n",
        "    img_array = img_array.reshape((1,) + img_array.shape)\n",
        "\n",
        "    img_array /= 255.0\n",
        "\n",
        "    test_images.append(img_array)\n",
        "    test_labels.append(row['label'])\n",
        "\n",
        "processed_images = np.array(processed_images)\n",
        "labels = np.array(labels)\n",
        "test_images = np.array(test_images)\n",
        "test_labels = np.array(test_labels)"
      ],
      "metadata": {
        "id": "sypyXmzykdIG"
      },
      "execution_count": 6,
      "outputs": []
    },
    {
      "cell_type": "code",
      "source": [
        "# Create a DataFrame for image paths and labels for testing\n",
        "file_paths_test = []\n",
        "labels_test = []\n",
        "\n",
        "for _, row in test_df.iterrows():\n",
        "    file_paths_test.append(row['file_path'])\n",
        "    labels_test.append(row['label'])\n",
        "\n",
        "df_test = pd.DataFrame({'file_path': file_paths_test, 'label': labels_test})"
      ],
      "metadata": {
        "id": "Ck0iuVYhQzFa"
      },
      "execution_count": 7,
      "outputs": []
    },
    {
      "cell_type": "code",
      "source": [
        "# DataBlock and DataLoader for training\n",
        "train_dblock = DataBlock(blocks=(ImageBlock, CategoryBlock),\n",
        "                         get_x=ColReader('file_path', pref='/'),\n",
        "                         get_y=ColReader('label'),\n",
        "                         item_tfms=Resize(target_size))\n",
        "train_dls = train_dblock.dataloaders(train_df)"
      ],
      "metadata": {
        "colab": {
          "base_uri": "https://localhost:8080/"
        },
        "id": "GuiDSbFmkrvW",
        "outputId": "1d73c8a9-fac9-40b0-f307-dea2de4d163f"
      },
      "execution_count": 8,
      "outputs": [
        {
          "output_type": "stream",
          "name": "stderr",
          "text": [
            "/usr/local/lib/python3.10/dist-packages/fastai/torch_core.py:263: UserWarning: 'has_mps' is deprecated, please use 'torch.backends.mps.is_built()'\n",
            "  return getattr(torch, 'has_mps', False)\n"
          ]
        }
      ]
    },
    {
      "cell_type": "code",
      "source": [
        "# DataBlock and DataLoader for testing\n",
        "test_dblock = DataBlock(blocks=(ImageBlock, CategoryBlock),\n",
        "                        get_x=ColReader('file_path', pref='/'),\n",
        "                        get_y=ColReader('label'),\n",
        "                        item_tfms=Resize(target_size))\n",
        "test_dls = test_dblock.dataloaders(df_test)"
      ],
      "metadata": {
        "colab": {
          "base_uri": "https://localhost:8080/"
        },
        "id": "cBZqqjHVkvA7",
        "outputId": "6567a497-beef-47ec-f907-2a7dadcb33af"
      },
      "execution_count": 9,
      "outputs": [
        {
          "output_type": "stream",
          "name": "stderr",
          "text": [
            "/usr/local/lib/python3.10/dist-packages/fastai/torch_core.py:263: UserWarning: 'has_mps' is deprecated, please use 'torch.backends.mps.is_built()'\n",
            "  return getattr(torch, 'has_mps', False)\n"
          ]
        }
      ]
    },
    {
      "cell_type": "code",
      "source": [
        "# Model Training\n",
        "learn = cnn_learner(train_dls, resnet34, metrics=accuracy)\n",
        "learn.fine_tune(epochs=6)"
      ],
      "metadata": {
        "colab": {
          "base_uri": "https://localhost:8080/",
          "height": 373
        },
        "id": "MmOiZpwnQ1IN",
        "outputId": "a54ce884-d490-47fd-9bc6-6e4d684075b6"
      },
      "execution_count": 10,
      "outputs": [
        {
          "output_type": "stream",
          "name": "stderr",
          "text": [
            "/usr/local/lib/python3.10/dist-packages/fastai/vision/learner.py:301: UserWarning: `cnn_learner` has been renamed to `vision_learner` -- please update your code\n",
            "  warn(\"`cnn_learner` has been renamed to `vision_learner` -- please update your code\")\n",
            "Downloading: \"https://download.pytorch.org/models/resnet34-b627a593.pth\" to /root/.cache/torch/hub/checkpoints/resnet34-b627a593.pth\n",
            "100%|██████████| 83.3M/83.3M [00:00<00:00, 125MB/s]\n"
          ]
        },
        {
          "output_type": "display_data",
          "data": {
            "text/plain": [
              "<IPython.core.display.HTML object>"
            ],
            "text/html": [
              "\n",
              "<style>\n",
              "    /* Turns off some styling */\n",
              "    progress {\n",
              "        /* gets rid of default border in Firefox and Opera. */\n",
              "        border: none;\n",
              "        /* Needs to be in here for Safari polyfill so background images work as expected. */\n",
              "        background-size: auto;\n",
              "    }\n",
              "    progress:not([value]), progress:not([value])::-webkit-progress-bar {\n",
              "        background: repeating-linear-gradient(45deg, #7e7e7e, #7e7e7e 10px, #5c5c5c 10px, #5c5c5c 20px);\n",
              "    }\n",
              "    .progress-bar-interrupted, .progress-bar-interrupted::-webkit-progress-bar {\n",
              "        background: #F44336;\n",
              "    }\n",
              "</style>\n"
            ]
          },
          "metadata": {}
        },
        {
          "output_type": "display_data",
          "data": {
            "text/plain": [
              "<IPython.core.display.HTML object>"
            ],
            "text/html": [
              "<table border=\"1\" class=\"dataframe\">\n",
              "  <thead>\n",
              "    <tr style=\"text-align: left;\">\n",
              "      <th>epoch</th>\n",
              "      <th>train_loss</th>\n",
              "      <th>valid_loss</th>\n",
              "      <th>accuracy</th>\n",
              "      <th>time</th>\n",
              "    </tr>\n",
              "  </thead>\n",
              "  <tbody>\n",
              "    <tr>\n",
              "      <td>0</td>\n",
              "      <td>2.153508</td>\n",
              "      <td>1.710047</td>\n",
              "      <td>0.379310</td>\n",
              "      <td>00:13</td>\n",
              "    </tr>\n",
              "  </tbody>\n",
              "</table>"
            ]
          },
          "metadata": {}
        },
        {
          "output_type": "display_data",
          "data": {
            "text/plain": [
              "<IPython.core.display.HTML object>"
            ],
            "text/html": [
              "\n",
              "<style>\n",
              "    /* Turns off some styling */\n",
              "    progress {\n",
              "        /* gets rid of default border in Firefox and Opera. */\n",
              "        border: none;\n",
              "        /* Needs to be in here for Safari polyfill so background images work as expected. */\n",
              "        background-size: auto;\n",
              "    }\n",
              "    progress:not([value]), progress:not([value])::-webkit-progress-bar {\n",
              "        background: repeating-linear-gradient(45deg, #7e7e7e, #7e7e7e 10px, #5c5c5c 10px, #5c5c5c 20px);\n",
              "    }\n",
              "    .progress-bar-interrupted, .progress-bar-interrupted::-webkit-progress-bar {\n",
              "        background: #F44336;\n",
              "    }\n",
              "</style>\n"
            ]
          },
          "metadata": {}
        },
        {
          "output_type": "display_data",
          "data": {
            "text/plain": [
              "<IPython.core.display.HTML object>"
            ],
            "text/html": [
              "<table border=\"1\" class=\"dataframe\">\n",
              "  <thead>\n",
              "    <tr style=\"text-align: left;\">\n",
              "      <th>epoch</th>\n",
              "      <th>train_loss</th>\n",
              "      <th>valid_loss</th>\n",
              "      <th>accuracy</th>\n",
              "      <th>time</th>\n",
              "    </tr>\n",
              "  </thead>\n",
              "  <tbody>\n",
              "    <tr>\n",
              "      <td>0</td>\n",
              "      <td>2.171732</td>\n",
              "      <td>1.375908</td>\n",
              "      <td>0.413793</td>\n",
              "      <td>00:16</td>\n",
              "    </tr>\n",
              "    <tr>\n",
              "      <td>1</td>\n",
              "      <td>1.852594</td>\n",
              "      <td>1.120318</td>\n",
              "      <td>0.482759</td>\n",
              "      <td>00:16</td>\n",
              "    </tr>\n",
              "    <tr>\n",
              "      <td>2</td>\n",
              "      <td>1.574687</td>\n",
              "      <td>0.932329</td>\n",
              "      <td>0.551724</td>\n",
              "      <td>00:16</td>\n",
              "    </tr>\n",
              "    <tr>\n",
              "      <td>3</td>\n",
              "      <td>1.407312</td>\n",
              "      <td>0.768235</td>\n",
              "      <td>0.689655</td>\n",
              "      <td>00:16</td>\n",
              "    </tr>\n",
              "    <tr>\n",
              "      <td>4</td>\n",
              "      <td>1.281147</td>\n",
              "      <td>0.709314</td>\n",
              "      <td>0.724138</td>\n",
              "      <td>00:16</td>\n",
              "    </tr>\n",
              "    <tr>\n",
              "      <td>5</td>\n",
              "      <td>1.139117</td>\n",
              "      <td>0.725644</td>\n",
              "      <td>0.724138</td>\n",
              "      <td>00:16</td>\n",
              "    </tr>\n",
              "  </tbody>\n",
              "</table>"
            ]
          },
          "metadata": {}
        }
      ]
    },
    {
      "cell_type": "code",
      "source": [
        "# Interpretation\n",
        "interp = ClassificationInterpretation.from_learner(learn)\n",
        "interp.print_classification_report()"
      ],
      "metadata": {
        "colab": {
          "base_uri": "https://localhost:8080/",
          "height": 198
        },
        "id": "kIYD0wTTk8t6",
        "outputId": "687195bc-501e-4e87-b7ab-00b59425e835"
      },
      "execution_count": 11,
      "outputs": [
        {
          "output_type": "display_data",
          "data": {
            "text/plain": [
              "<IPython.core.display.HTML object>"
            ],
            "text/html": [
              "\n",
              "<style>\n",
              "    /* Turns off some styling */\n",
              "    progress {\n",
              "        /* gets rid of default border in Firefox and Opera. */\n",
              "        border: none;\n",
              "        /* Needs to be in here for Safari polyfill so background images work as expected. */\n",
              "        background-size: auto;\n",
              "    }\n",
              "    progress:not([value]), progress:not([value])::-webkit-progress-bar {\n",
              "        background: repeating-linear-gradient(45deg, #7e7e7e, #7e7e7e 10px, #5c5c5c 10px, #5c5c5c 20px);\n",
              "    }\n",
              "    .progress-bar-interrupted, .progress-bar-interrupted::-webkit-progress-bar {\n",
              "        background: #F44336;\n",
              "    }\n",
              "</style>\n"
            ]
          },
          "metadata": {}
        },
        {
          "output_type": "display_data",
          "data": {
            "text/plain": [
              "<IPython.core.display.HTML object>"
            ],
            "text/html": []
          },
          "metadata": {}
        },
        {
          "output_type": "display_data",
          "data": {
            "text/plain": [
              "<IPython.core.display.HTML object>"
            ],
            "text/html": [
              "\n",
              "<style>\n",
              "    /* Turns off some styling */\n",
              "    progress {\n",
              "        /* gets rid of default border in Firefox and Opera. */\n",
              "        border: none;\n",
              "        /* Needs to be in here for Safari polyfill so background images work as expected. */\n",
              "        background-size: auto;\n",
              "    }\n",
              "    progress:not([value]), progress:not([value])::-webkit-progress-bar {\n",
              "        background: repeating-linear-gradient(45deg, #7e7e7e, #7e7e7e 10px, #5c5c5c 10px, #5c5c5c 20px);\n",
              "    }\n",
              "    .progress-bar-interrupted, .progress-bar-interrupted::-webkit-progress-bar {\n",
              "        background: #F44336;\n",
              "    }\n",
              "</style>\n"
            ]
          },
          "metadata": {}
        },
        {
          "output_type": "display_data",
          "data": {
            "text/plain": [
              "<IPython.core.display.HTML object>"
            ],
            "text/html": []
          },
          "metadata": {}
        },
        {
          "output_type": "stream",
          "name": "stdout",
          "text": [
            "                        precision    recall  f1-score   support\n",
            "\n",
            "                 email       0.80      0.44      0.57         9\n",
            "                resume       0.46      0.86      0.60         7\n",
            "scientific_publication       1.00      0.85      0.92        13\n",
            "\n",
            "              accuracy                           0.72        29\n",
            "             macro avg       0.75      0.72      0.70        29\n",
            "          weighted avg       0.81      0.72      0.73        29\n",
            "\n"
          ]
        }
      ]
    },
    {
      "cell_type": "code",
      "source": [
        "# Plot confusion matrix\n",
        "interp.plot_confusion_matrix(figsize=(10, 10))"
      ],
      "metadata": {
        "colab": {
          "base_uri": "https://localhost:8080/",
          "height": 1000
        },
        "id": "cuKAlV9Hk9cS",
        "outputId": "f40eeb07-895b-43bf-c1b5-9ca11ed5c53b"
      },
      "execution_count": 12,
      "outputs": [
        {
          "output_type": "stream",
          "name": "stderr",
          "text": [
            "/usr/local/lib/python3.10/dist-packages/fastai/torch_core.py:263: UserWarning: 'has_mps' is deprecated, please use 'torch.backends.mps.is_built()'\n",
            "  return getattr(torch, 'has_mps', False)\n"
          ]
        },
        {
          "output_type": "display_data",
          "data": {
            "text/plain": [
              "<IPython.core.display.HTML object>"
            ],
            "text/html": [
              "\n",
              "<style>\n",
              "    /* Turns off some styling */\n",
              "    progress {\n",
              "        /* gets rid of default border in Firefox and Opera. */\n",
              "        border: none;\n",
              "        /* Needs to be in here for Safari polyfill so background images work as expected. */\n",
              "        background-size: auto;\n",
              "    }\n",
              "    progress:not([value]), progress:not([value])::-webkit-progress-bar {\n",
              "        background: repeating-linear-gradient(45deg, #7e7e7e, #7e7e7e 10px, #5c5c5c 10px, #5c5c5c 20px);\n",
              "    }\n",
              "    .progress-bar-interrupted, .progress-bar-interrupted::-webkit-progress-bar {\n",
              "        background: #F44336;\n",
              "    }\n",
              "</style>\n"
            ]
          },
          "metadata": {}
        },
        {
          "output_type": "display_data",
          "data": {
            "text/plain": [
              "<IPython.core.display.HTML object>"
            ],
            "text/html": []
          },
          "metadata": {}
        },
        {
          "output_type": "display_data",
          "data": {
            "text/plain": [
              "<Figure size 1000x1000 with 1 Axes>"
            ],
            "image/png": "[encoded data removed]"
          },
          "metadata": {}
        }
      ]
    },
    {
      "cell_type": "code",
      "source": [
        "# Print raw confusion matrix values\n",
        "confusion_matrix = interp.confusion_matrix()\n",
        "print(\"Confusion Matrix:\")\n",
        "print(confusion_matrix)"
      ],
      "metadata": {
        "colab": {
          "base_uri": "https://localhost:8080/",
          "height": 89
        },
        "id": "NUJqEDxqQ5Li",
        "outputId": "e82870c8-fde1-4b7d-ab2e-f9f761206def"
      },
      "execution_count": 13,
      "outputs": [
        {
          "output_type": "display_data",
          "data": {
            "text/plain": [
              "<IPython.core.display.HTML object>"
            ],
            "text/html": [
              "\n",
              "<style>\n",
              "    /* Turns off some styling */\n",
              "    progress {\n",
              "        /* gets rid of default border in Firefox and Opera. */\n",
              "        border: none;\n",
              "        /* Needs to be in here for Safari polyfill so background images work as expected. */\n",
              "        background-size: auto;\n",
              "    }\n",
              "    progress:not([value]), progress:not([value])::-webkit-progress-bar {\n",
              "        background: repeating-linear-gradient(45deg, #7e7e7e, #7e7e7e 10px, #5c5c5c 10px, #5c5c5c 20px);\n",
              "    }\n",
              "    .progress-bar-interrupted, .progress-bar-interrupted::-webkit-progress-bar {\n",
              "        background: #F44336;\n",
              "    }\n",
              "</style>\n"
            ]
          },
          "metadata": {}
        },
        {
          "output_type": "display_data",
          "data": {
            "text/plain": [
              "<IPython.core.display.HTML object>"
            ],
            "text/html": []
          },
          "metadata": {}
        },
        {
          "output_type": "stream",
          "name": "stdout",
          "text": [
            "Confusion Matrix:\n",
            "[[ 4  5  0]\n",
            " [ 1  6  0]\n",
            " [ 0  2 11]]\n"
          ]
        }
      ]
    }
  ]
}